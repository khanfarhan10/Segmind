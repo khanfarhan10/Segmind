{
  "nbformat": 4,
  "nbformat_minor": 0,
  "metadata": {
    "colab": {
      "name": "Segmind Grand AI Challenge 2021_Neavil Porus A.ipynb",
      "provenance": [],
      "collapsed_sections": []
    },
    "kernelspec": {
      "name": "python3",
      "display_name": "Python 3"
    },
    "language_info": {
      "name": "python"
    }
  },
  "cells": [
    {
      "cell_type": "code",
      "metadata": {
        "id": "x19oaSLmrf2X"
      },
      "source": [
        "# Importing Libraries for Data Exploration\n",
        "import numpy as np\n",
        "import pandas as pd\n",
        "\n",
        "# Using Tensorflow for distant Applications\n",
        "from tensorflow import keras\n",
        "from tensorflow.keras import layers"
      ],
      "execution_count": 32,
      "outputs": []
    },
    {
      "cell_type": "code",
      "metadata": {
        "id": "qta6D8z8sEno",
        "colab": {
          "base_uri": "https://localhost:8080/"
        },
        "outputId": "7e4da85b-e533-4967-c3a1-5643b8aaef69"
      },
      "source": [
        "# Reading the Test and Training DataSet\n",
        "train_data = pd.read_csv(\"TRAIN.csv\")\n",
        "test_data = pd.read_csv(\"TEST.csv\")"
      ],
      "execution_count": 33,
      "outputs": [
        {
          "output_type": "stream",
          "text": [
            "/usr/local/lib/python3.7/dist-packages/IPython/core/interactiveshell.py:2718: DtypeWarning: Columns (7) have mixed types.Specify dtype option on import or set low_memory=False.\n",
            "  interactivity=interactivity, compiler=compiler, result=result)\n"
          ],
          "name": "stderr"
        }
      ]
    },
    {
      "cell_type": "code",
      "metadata": {
        "colab": {
          "base_uri": "https://localhost:8080/",
          "height": 195
        },
        "id": "e22ieYhcQ2cd",
        "outputId": "0a05f55c-9d71-4cd2-a696-87b4b4563edc"
      },
      "source": [
        "# Finding the Headers and Values\n",
        "test_data.head()"
      ],
      "execution_count": 34,
      "outputs": [
        {
          "output_type": "execute_result",
          "data": {
            "text/html": [
              "<div>\n",
              "<style scoped>\n",
              "    .dataframe tbody tr th:only-of-type {\n",
              "        vertical-align: middle;\n",
              "    }\n",
              "\n",
              "    .dataframe tbody tr th {\n",
              "        vertical-align: top;\n",
              "    }\n",
              "\n",
              "    .dataframe thead th {\n",
              "        text-align: right;\n",
              "    }\n",
              "</style>\n",
              "<table border=\"1\" class=\"dataframe\">\n",
              "  <thead>\n",
              "    <tr style=\"text-align: right;\">\n",
              "      <th></th>\n",
              "      <th>Store</th>\n",
              "      <th>DayOfWeek</th>\n",
              "      <th>Date</th>\n",
              "      <th>Open</th>\n",
              "      <th>Promo</th>\n",
              "      <th>StateHoliday</th>\n",
              "      <th>SchoolHoliday</th>\n",
              "    </tr>\n",
              "  </thead>\n",
              "  <tbody>\n",
              "    <tr>\n",
              "      <th>0</th>\n",
              "      <td>767</td>\n",
              "      <td>1</td>\n",
              "      <td>2013-04-01</td>\n",
              "      <td>0</td>\n",
              "      <td>0</td>\n",
              "      <td>b</td>\n",
              "      <td>1</td>\n",
              "    </tr>\n",
              "    <tr>\n",
              "      <th>1</th>\n",
              "      <td>1111</td>\n",
              "      <td>6</td>\n",
              "      <td>2013-03-16</td>\n",
              "      <td>1</td>\n",
              "      <td>0</td>\n",
              "      <td>0</td>\n",
              "      <td>0</td>\n",
              "    </tr>\n",
              "    <tr>\n",
              "      <th>2</th>\n",
              "      <td>45</td>\n",
              "      <td>4</td>\n",
              "      <td>2013-08-01</td>\n",
              "      <td>1</td>\n",
              "      <td>1</td>\n",
              "      <td>0</td>\n",
              "      <td>1</td>\n",
              "    </tr>\n",
              "    <tr>\n",
              "      <th>3</th>\n",
              "      <td>500</td>\n",
              "      <td>4</td>\n",
              "      <td>2013-05-23</td>\n",
              "      <td>1</td>\n",
              "      <td>0</td>\n",
              "      <td>0</td>\n",
              "      <td>1</td>\n",
              "    </tr>\n",
              "    <tr>\n",
              "      <th>4</th>\n",
              "      <td>82</td>\n",
              "      <td>2</td>\n",
              "      <td>2013-08-06</td>\n",
              "      <td>1</td>\n",
              "      <td>0</td>\n",
              "      <td>0</td>\n",
              "      <td>1</td>\n",
              "    </tr>\n",
              "  </tbody>\n",
              "</table>\n",
              "</div>"
            ],
            "text/plain": [
              "   Store  DayOfWeek        Date  Open  Promo StateHoliday  SchoolHoliday\n",
              "0    767          1  2013-04-01     0      0            b              1\n",
              "1   1111          6  2013-03-16     1      0            0              0\n",
              "2     45          4  2013-08-01     1      1            0              1\n",
              "3    500          4  2013-05-23     1      0            0              1\n",
              "4     82          2  2013-08-06     1      0            0              1"
            ]
          },
          "metadata": {
            "tags": []
          },
          "execution_count": 34
        }
      ]
    },
    {
      "cell_type": "code",
      "metadata": {
        "id": "Rzznh1bZf_2I"
      },
      "source": [
        "# Using Datasets to split their values based on a,b,c\n",
        "holidays1=train_data['StateHoliday']\n",
        "holidays2=test_data['StateHoliday']\n",
        "\n",
        "train_data['StateHoliday_a']=(holidays1=='a')*1.0\n",
        "train_data['StateHoliday_b']=(holidays1=='b')*1.0\n",
        "train_data['StateHoliday_c']=(holidays1=='c')*1.0\n",
        "\n",
        "test_data['StateHoliday_a']=(holidays2=='a')*1.0\n",
        "test_data['StateHoliday_b']=(holidays2=='b')*1.0\n",
        "test_data['StateHoliday_c']=(holidays2=='c')*1.0"
      ],
      "execution_count": 35,
      "outputs": []
    },
    {
      "cell_type": "code",
      "metadata": {
        "colab": {
          "base_uri": "https://localhost:8080/"
        },
        "id": "YcW2--UUQVkF",
        "outputId": "426681a4-3c2a-479a-b75d-029c826a9a21"
      },
      "source": [
        "# Splitting the values based on Date\n",
        "s=pd.to_datetime(train_data['Date'],format='%Y-%m-%d')\n",
        "\n",
        "train_data['year']=s.dt.year\n",
        "train_data['month']=s.dt.month\n",
        "train_data['day']=s.dt.day\n",
        "\n",
        "train_data.pop('Date')\n"
      ],
      "execution_count": 36,
      "outputs": [
        {
          "output_type": "execute_result",
          "data": {
            "text/plain": [
              "0         2015-07-31\n",
              "1         2015-07-31\n",
              "2         2015-07-31\n",
              "3         2015-07-31\n",
              "4         2015-07-31\n",
              "             ...    \n",
              "712041    2013-10-01\n",
              "712042    2013-10-01\n",
              "712043    2013-10-01\n",
              "712044    2013-10-01\n",
              "712045    2013-10-01\n",
              "Name: Date, Length: 712046, dtype: object"
            ]
          },
          "metadata": {
            "tags": []
          },
          "execution_count": 36
        }
      ]
    },
    {
      "cell_type": "code",
      "metadata": {
        "colab": {
          "base_uri": "https://localhost:8080/"
        },
        "id": "PTdypjrSQqXU",
        "outputId": "b846676d-df34-44d0-836d-863baba71c06"
      },
      "source": [
        "# Popping the Customers Valuation\n",
        "train_data.pop('Customers')"
      ],
      "execution_count": 37,
      "outputs": [
        {
          "output_type": "execute_result",
          "data": {
            "text/plain": [
              "0          555\n",
              "1          625\n",
              "2          821\n",
              "3         1498\n",
              "4          559\n",
              "          ... \n",
              "712041     836\n",
              "712042     588\n",
              "712043    1043\n",
              "712044     475\n",
              "712045     599\n",
              "Name: Customers, Length: 712046, dtype: int64"
            ]
          },
          "metadata": {
            "tags": []
          },
          "execution_count": 37
        }
      ]
    },
    {
      "cell_type": "code",
      "metadata": {
        "colab": {
          "base_uri": "https://localhost:8080/"
        },
        "id": "wF6M-By55HJ5",
        "outputId": "31a5d602-b82f-4c5c-87b2-d947e5f4cbd9"
      },
      "source": [
        "# Splitting the Test Dataset\n",
        "s=pd.to_datetime(test_data['Date'],format='%Y-%m-%d')\n",
        "\n",
        "test_data['year']=s.dt.year\n",
        "test_data['month']=s.dt.month\n",
        "test_data['day']=s.dt.day\n",
        "\n",
        "test_data.pop('Date')"
      ],
      "execution_count": 38,
      "outputs": [
        {
          "output_type": "execute_result",
          "data": {
            "text/plain": [
              "0         2013-04-01\n",
              "1         2013-03-16\n",
              "2         2013-08-01\n",
              "3         2013-05-23\n",
              "4         2013-08-06\n",
              "             ...    \n",
              "305158    2013-05-28\n",
              "305159    2013-03-02\n",
              "305160    2013-09-16\n",
              "305161    2013-06-22\n",
              "305162    2013-09-07\n",
              "Name: Date, Length: 305163, dtype: object"
            ]
          },
          "metadata": {
            "tags": []
          },
          "execution_count": 38
        }
      ]
    },
    {
      "cell_type": "code",
      "metadata": {
        "colab": {
          "base_uri": "https://localhost:8080/"
        },
        "id": "q03bvuN6vLFr",
        "outputId": "915da2dc-aeca-48d2-d007-4fc7114069fd"
      },
      "source": [
        "# Printing the Valuation of Dataset\n",
        "print(train_data.head())\n",
        "print(test_data.head())"
      ],
      "execution_count": 39,
      "outputs": [
        {
          "output_type": "stream",
          "text": [
            "   Store  DayOfWeek  Sales  Open  ...  StateHoliday_c  year  month  day\n",
            "0      1          5   5263     1  ...             0.0  2015      7   31\n",
            "1      2          5   6064     1  ...             0.0  2015      7   31\n",
            "2      3          5   8314     1  ...             0.0  2015      7   31\n",
            "3      4          5  13995     1  ...             0.0  2015      7   31\n",
            "4      5          5   4822     1  ...             0.0  2015      7   31\n",
            "\n",
            "[5 rows x 13 columns]\n",
            "   Store  DayOfWeek  Open  Promo  ... StateHoliday_c  year  month  day\n",
            "0    767          1     0      0  ...            0.0  2013      4    1\n",
            "1   1111          6     1      0  ...            0.0  2013      3   16\n",
            "2     45          4     1      1  ...            0.0  2013      8    1\n",
            "3    500          4     1      0  ...            0.0  2013      5   23\n",
            "4     82          2     1      0  ...            0.0  2013      8    6\n",
            "\n",
            "[5 rows x 12 columns]\n"
          ],
          "name": "stdout"
        }
      ]
    },
    {
      "cell_type": "code",
      "metadata": {
        "colab": {
          "base_uri": "https://localhost:8080/",
          "height": 373
        },
        "id": "aXaqwPPPXfu3",
        "outputId": "316a809e-5ca6-4a9f-8ef2-e9236acb59db"
      },
      "source": [
        "# Popping the values of dataset based on sales\n",
        "train_stats=train_data.describe()\n",
        "train_stats.pop('Sales')\n",
        "train_stats=train_stats.transpose()\n",
        "train_stats\n"
      ],
      "execution_count": 40,
      "outputs": [
        {
          "output_type": "execute_result",
          "data": {
            "text/html": [
              "<div>\n",
              "<style scoped>\n",
              "    .dataframe tbody tr th:only-of-type {\n",
              "        vertical-align: middle;\n",
              "    }\n",
              "\n",
              "    .dataframe tbody tr th {\n",
              "        vertical-align: top;\n",
              "    }\n",
              "\n",
              "    .dataframe thead th {\n",
              "        text-align: right;\n",
              "    }\n",
              "</style>\n",
              "<table border=\"1\" class=\"dataframe\">\n",
              "  <thead>\n",
              "    <tr style=\"text-align: right;\">\n",
              "      <th></th>\n",
              "      <th>count</th>\n",
              "      <th>mean</th>\n",
              "      <th>std</th>\n",
              "      <th>min</th>\n",
              "      <th>25%</th>\n",
              "      <th>50%</th>\n",
              "      <th>75%</th>\n",
              "      <th>max</th>\n",
              "    </tr>\n",
              "  </thead>\n",
              "  <tbody>\n",
              "    <tr>\n",
              "      <th>Store</th>\n",
              "      <td>712046.0</td>\n",
              "      <td>558.427662</td>\n",
              "      <td>321.965298</td>\n",
              "      <td>1.0</td>\n",
              "      <td>280.0</td>\n",
              "      <td>558.0</td>\n",
              "      <td>838.0</td>\n",
              "      <td>1115.0</td>\n",
              "    </tr>\n",
              "    <tr>\n",
              "      <th>DayOfWeek</th>\n",
              "      <td>712046.0</td>\n",
              "      <td>3.999787</td>\n",
              "      <td>1.996273</td>\n",
              "      <td>1.0</td>\n",
              "      <td>2.0</td>\n",
              "      <td>4.0</td>\n",
              "      <td>6.0</td>\n",
              "      <td>7.0</td>\n",
              "    </tr>\n",
              "    <tr>\n",
              "      <th>Open</th>\n",
              "      <td>712046.0</td>\n",
              "      <td>0.828574</td>\n",
              "      <td>0.376881</td>\n",
              "      <td>0.0</td>\n",
              "      <td>1.0</td>\n",
              "      <td>1.0</td>\n",
              "      <td>1.0</td>\n",
              "      <td>1.0</td>\n",
              "    </tr>\n",
              "    <tr>\n",
              "      <th>Promo</th>\n",
              "      <td>712046.0</td>\n",
              "      <td>0.380600</td>\n",
              "      <td>0.485535</td>\n",
              "      <td>0.0</td>\n",
              "      <td>0.0</td>\n",
              "      <td>0.0</td>\n",
              "      <td>1.0</td>\n",
              "      <td>1.0</td>\n",
              "    </tr>\n",
              "    <tr>\n",
              "      <th>SchoolHoliday</th>\n",
              "      <td>712046.0</td>\n",
              "      <td>0.172167</td>\n",
              "      <td>0.377526</td>\n",
              "      <td>0.0</td>\n",
              "      <td>0.0</td>\n",
              "      <td>0.0</td>\n",
              "      <td>0.0</td>\n",
              "      <td>1.0</td>\n",
              "    </tr>\n",
              "    <tr>\n",
              "      <th>StateHoliday_a</th>\n",
              "      <td>712046.0</td>\n",
              "      <td>0.020428</td>\n",
              "      <td>0.141461</td>\n",
              "      <td>0.0</td>\n",
              "      <td>0.0</td>\n",
              "      <td>0.0</td>\n",
              "      <td>0.0</td>\n",
              "      <td>1.0</td>\n",
              "    </tr>\n",
              "    <tr>\n",
              "      <th>StateHoliday_b</th>\n",
              "      <td>712046.0</td>\n",
              "      <td>0.006264</td>\n",
              "      <td>0.078895</td>\n",
              "      <td>0.0</td>\n",
              "      <td>0.0</td>\n",
              "      <td>0.0</td>\n",
              "      <td>0.0</td>\n",
              "      <td>1.0</td>\n",
              "    </tr>\n",
              "    <tr>\n",
              "      <th>StateHoliday_c</th>\n",
              "      <td>712046.0</td>\n",
              "      <td>0.005758</td>\n",
              "      <td>0.075663</td>\n",
              "      <td>0.0</td>\n",
              "      <td>0.0</td>\n",
              "      <td>0.0</td>\n",
              "      <td>0.0</td>\n",
              "      <td>1.0</td>\n",
              "    </tr>\n",
              "    <tr>\n",
              "      <th>year</th>\n",
              "      <td>712046.0</td>\n",
              "      <td>2014.188989</td>\n",
              "      <td>0.662752</td>\n",
              "      <td>2013.0</td>\n",
              "      <td>2014.0</td>\n",
              "      <td>2014.0</td>\n",
              "      <td>2015.0</td>\n",
              "      <td>2015.0</td>\n",
              "    </tr>\n",
              "    <tr>\n",
              "      <th>month</th>\n",
              "      <td>712046.0</td>\n",
              "      <td>6.196426</td>\n",
              "      <td>3.539482</td>\n",
              "      <td>1.0</td>\n",
              "      <td>3.0</td>\n",
              "      <td>6.0</td>\n",
              "      <td>10.0</td>\n",
              "      <td>12.0</td>\n",
              "    </tr>\n",
              "    <tr>\n",
              "      <th>day</th>\n",
              "      <td>712046.0</td>\n",
              "      <td>15.727827</td>\n",
              "      <td>8.783917</td>\n",
              "      <td>1.0</td>\n",
              "      <td>8.0</td>\n",
              "      <td>16.0</td>\n",
              "      <td>23.0</td>\n",
              "      <td>31.0</td>\n",
              "    </tr>\n",
              "  </tbody>\n",
              "</table>\n",
              "</div>"
            ],
            "text/plain": [
              "                   count         mean         std  ...     50%     75%     max\n",
              "Store           712046.0   558.427662  321.965298  ...   558.0   838.0  1115.0\n",
              "DayOfWeek       712046.0     3.999787    1.996273  ...     4.0     6.0     7.0\n",
              "Open            712046.0     0.828574    0.376881  ...     1.0     1.0     1.0\n",
              "Promo           712046.0     0.380600    0.485535  ...     0.0     1.0     1.0\n",
              "SchoolHoliday   712046.0     0.172167    0.377526  ...     0.0     0.0     1.0\n",
              "StateHoliday_a  712046.0     0.020428    0.141461  ...     0.0     0.0     1.0\n",
              "StateHoliday_b  712046.0     0.006264    0.078895  ...     0.0     0.0     1.0\n",
              "StateHoliday_c  712046.0     0.005758    0.075663  ...     0.0     0.0     1.0\n",
              "year            712046.0  2014.188989    0.662752  ...  2014.0  2015.0  2015.0\n",
              "month           712046.0     6.196426    3.539482  ...     6.0    10.0    12.0\n",
              "day             712046.0    15.727827    8.783917  ...    16.0    23.0    31.0\n",
              "\n",
              "[11 rows x 8 columns]"
            ]
          },
          "metadata": {
            "tags": []
          },
          "execution_count": 40
        }
      ]
    },
    {
      "cell_type": "code",
      "metadata": {
        "id": "fNNRPcxMX-qE"
      },
      "source": [
        "# Training X and Y\n",
        "x_train=train_data.drop(['Sales'],axis=1)\n",
        "y_train=train_data['Sales']"
      ],
      "execution_count": 41,
      "outputs": []
    },
    {
      "cell_type": "code",
      "metadata": {
        "colab": {
          "base_uri": "https://localhost:8080/"
        },
        "id": "fNuyoQK8aHCd",
        "outputId": "45e9407f-dcaf-48b1-8337-ec4b1f558cea"
      },
      "source": [
        "y_train"
      ],
      "execution_count": 42,
      "outputs": [
        {
          "output_type": "execute_result",
          "data": {
            "text/plain": [
              "0          5263\n",
              "1          6064\n",
              "2          8314\n",
              "3         13995\n",
              "4          4822\n",
              "          ...  \n",
              "712041    10182\n",
              "712042     5352\n",
              "712043     6652\n",
              "712044     3842\n",
              "712045     6143\n",
              "Name: Sales, Length: 712046, dtype: int64"
            ]
          },
          "metadata": {
            "tags": []
          },
          "execution_count": 42
        }
      ]
    },
    {
      "cell_type": "code",
      "metadata": {
        "id": "n9m4j0WFYNmh"
      },
      "source": [
        "#Training Normalied Values\n",
        "def norm(x):\n",
        "  return( (x-train_stats['mean']) / train_stats['std'] )\n",
        "\n",
        "norm_x_train=norm(x_train)\n",
        "norm_test=norm(test_data)"
      ],
      "execution_count": 43,
      "outputs": []
    },
    {
      "cell_type": "code",
      "metadata": {
        "id": "6bUbFCHqERwP",
        "colab": {
          "base_uri": "https://localhost:8080/"
        },
        "outputId": "766d2f3e-5f11-4eb1-88eb-fbd2e7363139"
      },
      "source": [
        "# Popping the Normalized value\n",
        "norm_x_train.pop('StateHoliday')\n",
        "norm_test.pop('StateHoliday')"
      ],
      "execution_count": 44,
      "outputs": [
        {
          "output_type": "execute_result",
          "data": {
            "text/plain": [
              "0         NaN\n",
              "1         NaN\n",
              "2         NaN\n",
              "3         NaN\n",
              "4         NaN\n",
              "         ... \n",
              "305158    NaN\n",
              "305159    NaN\n",
              "305160    NaN\n",
              "305161    NaN\n",
              "305162    NaN\n",
              "Name: StateHoliday, Length: 305163, dtype: object"
            ]
          },
          "metadata": {
            "tags": []
          },
          "execution_count": 44
        }
      ]
    },
    {
      "cell_type": "code",
      "metadata": {
        "id": "Z5wBtjz7O0u8",
        "colab": {
          "base_uri": "https://localhost:8080/",
          "height": 195
        },
        "outputId": "d8cc87f0-c9c3-4d31-9c9a-7f9617536f56"
      },
      "source": [
        "# Checking the header values\n",
        "norm_test.head()"
      ],
      "execution_count": 45,
      "outputs": [
        {
          "output_type": "execute_result",
          "data": {
            "text/html": [
              "<div>\n",
              "<style scoped>\n",
              "    .dataframe tbody tr th:only-of-type {\n",
              "        vertical-align: middle;\n",
              "    }\n",
              "\n",
              "    .dataframe tbody tr th {\n",
              "        vertical-align: top;\n",
              "    }\n",
              "\n",
              "    .dataframe thead th {\n",
              "        text-align: right;\n",
              "    }\n",
              "</style>\n",
              "<table border=\"1\" class=\"dataframe\">\n",
              "  <thead>\n",
              "    <tr style=\"text-align: right;\">\n",
              "      <th></th>\n",
              "      <th>DayOfWeek</th>\n",
              "      <th>Open</th>\n",
              "      <th>Promo</th>\n",
              "      <th>SchoolHoliday</th>\n",
              "      <th>StateHoliday_a</th>\n",
              "      <th>StateHoliday_b</th>\n",
              "      <th>StateHoliday_c</th>\n",
              "      <th>Store</th>\n",
              "      <th>day</th>\n",
              "      <th>month</th>\n",
              "      <th>year</th>\n",
              "    </tr>\n",
              "  </thead>\n",
              "  <tbody>\n",
              "    <tr>\n",
              "      <th>0</th>\n",
              "      <td>-1.502694</td>\n",
              "      <td>-2.198505</td>\n",
              "      <td>-0.783879</td>\n",
              "      <td>2.192783</td>\n",
              "      <td>-0.144411</td>\n",
              "      <td>12.595688</td>\n",
              "      <td>-0.076101</td>\n",
              "      <td>0.647810</td>\n",
              "      <td>-1.676681</td>\n",
              "      <td>-0.620550</td>\n",
              "      <td>-1.794018</td>\n",
              "    </tr>\n",
              "    <tr>\n",
              "      <th>1</th>\n",
              "      <td>1.001974</td>\n",
              "      <td>0.454854</td>\n",
              "      <td>-0.783879</td>\n",
              "      <td>-0.456041</td>\n",
              "      <td>-0.144411</td>\n",
              "      <td>-0.079392</td>\n",
              "      <td>-0.076101</td>\n",
              "      <td>1.716248</td>\n",
              "      <td>0.030985</td>\n",
              "      <td>-0.903077</td>\n",
              "      <td>-1.794018</td>\n",
              "    </tr>\n",
              "    <tr>\n",
              "      <th>2</th>\n",
              "      <td>0.000107</td>\n",
              "      <td>0.454854</td>\n",
              "      <td>1.275706</td>\n",
              "      <td>2.192783</td>\n",
              "      <td>-0.144411</td>\n",
              "      <td>-0.079392</td>\n",
              "      <td>-0.076101</td>\n",
              "      <td>-1.594668</td>\n",
              "      <td>-1.676681</td>\n",
              "      <td>0.509559</td>\n",
              "      <td>-1.794018</td>\n",
              "    </tr>\n",
              "    <tr>\n",
              "      <th>3</th>\n",
              "      <td>0.000107</td>\n",
              "      <td>0.454854</td>\n",
              "      <td>-0.783879</td>\n",
              "      <td>2.192783</td>\n",
              "      <td>-0.144411</td>\n",
              "      <td>-0.079392</td>\n",
              "      <td>-0.076101</td>\n",
              "      <td>-0.181472</td>\n",
              "      <td>0.827896</td>\n",
              "      <td>-0.338023</td>\n",
              "      <td>-1.794018</td>\n",
              "    </tr>\n",
              "    <tr>\n",
              "      <th>4</th>\n",
              "      <td>-1.001760</td>\n",
              "      <td>0.454854</td>\n",
              "      <td>-0.783879</td>\n",
              "      <td>2.192783</td>\n",
              "      <td>-0.144411</td>\n",
              "      <td>-0.079392</td>\n",
              "      <td>-0.076101</td>\n",
              "      <td>-1.479748</td>\n",
              "      <td>-1.107459</td>\n",
              "      <td>0.509559</td>\n",
              "      <td>-1.794018</td>\n",
              "    </tr>\n",
              "  </tbody>\n",
              "</table>\n",
              "</div>"
            ],
            "text/plain": [
              "   DayOfWeek      Open     Promo  ...       day     month      year\n",
              "0  -1.502694 -2.198505 -0.783879  ... -1.676681 -0.620550 -1.794018\n",
              "1   1.001974  0.454854 -0.783879  ...  0.030985 -0.903077 -1.794018\n",
              "2   0.000107  0.454854  1.275706  ... -1.676681  0.509559 -1.794018\n",
              "3   0.000107  0.454854 -0.783879  ...  0.827896 -0.338023 -1.794018\n",
              "4  -1.001760  0.454854 -0.783879  ... -1.107459  0.509559 -1.794018\n",
              "\n",
              "[5 rows x 11 columns]"
            ]
          },
          "metadata": {
            "tags": []
          },
          "execution_count": 45
        }
      ]
    },
    {
      "cell_type": "code",
      "metadata": {
        "id": "c1sf4rm8PNYG"
      },
      "source": [
        "kernel_regularizer=keras.regularizers.l2(1e-4)"
      ],
      "execution_count": 46,
      "outputs": []
    },
    {
      "cell_type": "code",
      "metadata": {
        "id": "42Bvy-gnGngz"
      },
      "source": [
        "# Shaping the input value\n",
        "input_shape=[norm_x_train.shape[1]]"
      ],
      "execution_count": 47,
      "outputs": []
    },
    {
      "cell_type": "code",
      "metadata": {
        "id": "mrRWmRudGxCT"
      },
      "source": [
        "# Using Keras for layer modulation and customized activation energy\n",
        "model=keras.Sequential([\n",
        "   layers.Dense(150,activation='relu',input_shape=input_shape,kernel_regularizer=keras.regularizers.l2(1)),\n",
        "   layers.Dropout(rate=0.2),\n",
        "   layers.Dense(150,activation='relu',kernel_regularizer=keras.regularizers.l2(1)),\n",
        "   layers.Dropout(rate=0.2),\n",
        "   layers.Dense(150,activation='relu',kernel_regularizer=keras.regularizers.l2(1)),\n",
        "   layers.Dropout(rate=0.2),\n",
        "   layers.Dense(150,activation='relu',kernel_regularizer=keras.regularizers.l2(1)),\n",
        "   layers.Dropout(rate=0.2),\n",
        "\n",
        "   layers.Dense(50,activation='relu',activity_regularizer=keras.regularizers.l2(1e-2)),\n",
        "   layers.Dropout(rate=0.2),\n",
        "   layers.Dense(50,activation='relu',activity_regularizer=keras.regularizers.l2(1e-2)),\n",
        "   layers.Dropout(rate=0.2),\n",
        "   layers.Dense(50,activation='relu',activity_regularizer=keras.regularizers.l2(1e-2)),\n",
        "   layers.Dropout(rate=0.2),\n",
        "   layers.Dense(36,activation='relu',activity_regularizer=keras.regularizers.l2(1e-2)),\n",
        "   layers.Dropout(rate=0.3),\n",
        "\n",
        "   layers.Dense(1)\n",
        "])"
      ],
      "execution_count": 48,
      "outputs": []
    },
    {
      "cell_type": "code",
      "metadata": {
        "id": "pbCJY_FnID1c"
      },
      "source": [
        "# Initializing the Optimizer values\n",
        "optimizer=keras.optimizers.RMSprop(0.01)\n",
        "metric1=keras.metrics.RootMeanSquaredError()\n",
        "metric2=keras.metrics.MeanAbsoluteError()\n",
        "model.compile(\n",
        "    optimizer='adam',\n",
        "    loss='mae',\n",
        "    metrics=[metric1]\n",
        ")"
      ],
      "execution_count": 49,
      "outputs": []
    },
    {
      "cell_type": "code",
      "metadata": {
        "id": "6dHzSqgZIqyI"
      },
      "source": [
        "# Stopping the values while gaining the value using epoch\n",
        "early_stopping=keras.callbacks.EarlyStopping(\n",
        "    monitor='val_loss',\n",
        "    patience=10,\n",
        "    restore_best_weights=True,\n",
        "    verbose=0\n",
        ")"
      ],
      "execution_count": 50,
      "outputs": []
    },
    {
      "cell_type": "code",
      "metadata": {
        "colab": {
          "base_uri": "https://localhost:8080/"
        },
        "id": "PeCYA4B-JFGT",
        "outputId": "084649d3-7ce3-4176-8e67-3cc824c71b64"
      },
      "source": [
        "# Fitting the value\n",
        "history=model.fit(\n",
        "    norm_x_train,y_train,\n",
        "    validation_split=0.7,\n",
        "    epochs=100,\n",
        "    batch_size=512,\n",
        "    callbacks = [early_stopping] \n",
        ")"
      ],
      "execution_count": 51,
      "outputs": [
        {
          "output_type": "stream",
          "text": [
            "Epoch 1/100\n",
            "418/418 [==============================] - 11s 24ms/step - loss: 6002.5967 - root_mean_squared_error: 6947.6917 - val_loss: 5598.1147 - val_root_mean_squared_error: 6554.9141\n",
            "Epoch 2/100\n",
            "418/418 [==============================] - 10s 23ms/step - loss: 5537.8312 - root_mean_squared_error: 6318.2222 - val_loss: 5077.0693 - val_root_mean_squared_error: 5548.0049\n",
            "Epoch 3/100\n",
            "418/418 [==============================] - 10s 23ms/step - loss: 4984.5418 - root_mean_squared_error: 5282.4893 - val_loss: 4400.3901 - val_root_mean_squared_error: 4472.5220\n",
            "Epoch 4/100\n",
            "418/418 [==============================] - 10s 24ms/step - loss: 4327.5957 - root_mean_squared_error: 4305.8340 - val_loss: 3859.1829 - val_root_mean_squared_error: 3929.3010\n",
            "Epoch 5/100\n",
            "418/418 [==============================] - 10s 23ms/step - loss: 3854.1553 - root_mean_squared_error: 3815.5187 - val_loss: 3487.8127 - val_root_mean_squared_error: 3540.6797\n",
            "Epoch 6/100\n",
            "418/418 [==============================] - 10s 23ms/step - loss: 3522.7151 - root_mean_squared_error: 3552.3265 - val_loss: 3232.1958 - val_root_mean_squared_error: 3427.6089\n",
            "Epoch 7/100\n",
            "418/418 [==============================] - 10s 23ms/step - loss: 3286.3082 - root_mean_squared_error: 3399.6123 - val_loss: 3060.8274 - val_root_mean_squared_error: 3188.2922\n",
            "Epoch 8/100\n",
            "418/418 [==============================] - 10s 23ms/step - loss: 3095.5561 - root_mean_squared_error: 3268.7361 - val_loss: 2971.2683 - val_root_mean_squared_error: 2996.5244\n",
            "Epoch 9/100\n",
            "418/418 [==============================] - 10s 23ms/step - loss: 2953.4519 - root_mean_squared_error: 3189.5347 - val_loss: 2836.6055 - val_root_mean_squared_error: 2951.6182\n",
            "Epoch 10/100\n",
            "418/418 [==============================] - 10s 23ms/step - loss: 2834.9046 - root_mean_squared_error: 3120.8128 - val_loss: 2756.8708 - val_root_mean_squared_error: 2852.5132\n",
            "Epoch 11/100\n",
            "418/418 [==============================] - 10s 23ms/step - loss: 2728.8927 - root_mean_squared_error: 3059.9040 - val_loss: 2683.4426 - val_root_mean_squared_error: 2853.4783\n",
            "Epoch 12/100\n",
            "418/418 [==============================] - 10s 23ms/step - loss: 2635.4189 - root_mean_squared_error: 3014.4112 - val_loss: 2583.0090 - val_root_mean_squared_error: 2852.1672\n",
            "Epoch 13/100\n",
            "418/418 [==============================] - 10s 23ms/step - loss: 2566.5566 - root_mean_squared_error: 3001.7065 - val_loss: 2532.4905 - val_root_mean_squared_error: 2841.0383\n",
            "Epoch 14/100\n",
            "418/418 [==============================] - 10s 23ms/step - loss: 2501.7350 - root_mean_squared_error: 2942.6003 - val_loss: 2472.0029 - val_root_mean_squared_error: 2848.6306\n",
            "Epoch 15/100\n",
            "418/418 [==============================] - 10s 23ms/step - loss: 2435.3788 - root_mean_squared_error: 2925.9777 - val_loss: 2498.5361 - val_root_mean_squared_error: 2813.1890\n",
            "Epoch 16/100\n",
            "418/418 [==============================] - 10s 23ms/step - loss: 2391.3032 - root_mean_squared_error: 2909.9957 - val_loss: 2392.7324 - val_root_mean_squared_error: 2808.7422\n",
            "Epoch 17/100\n",
            "418/418 [==============================] - 10s 24ms/step - loss: 2353.9410 - root_mean_squared_error: 2913.9246 - val_loss: 2287.3474 - val_root_mean_squared_error: 2801.8213\n",
            "Epoch 18/100\n",
            "418/418 [==============================] - 10s 23ms/step - loss: 2304.4121 - root_mean_squared_error: 2883.3407 - val_loss: 2291.6023 - val_root_mean_squared_error: 2799.2307\n",
            "Epoch 19/100\n",
            "418/418 [==============================] - 10s 23ms/step - loss: 2273.2039 - root_mean_squared_error: 2880.5862 - val_loss: 2331.0898 - val_root_mean_squared_error: 2782.7458\n",
            "Epoch 20/100\n",
            "418/418 [==============================] - 10s 23ms/step - loss: 2227.7336 - root_mean_squared_error: 2842.0685 - val_loss: 2209.6550 - val_root_mean_squared_error: 2787.3518\n",
            "Epoch 21/100\n",
            "418/418 [==============================] - 10s 23ms/step - loss: 2202.1380 - root_mean_squared_error: 2839.8109 - val_loss: 2273.1438 - val_root_mean_squared_error: 2796.5803\n",
            "Epoch 22/100\n",
            "418/418 [==============================] - 10s 23ms/step - loss: 2173.5392 - root_mean_squared_error: 2825.3580 - val_loss: 2312.3342 - val_root_mean_squared_error: 2821.0317\n",
            "Epoch 23/100\n",
            "418/418 [==============================] - 10s 23ms/step - loss: 2166.7887 - root_mean_squared_error: 2837.7812 - val_loss: 2206.1975 - val_root_mean_squared_error: 2793.9331\n",
            "Epoch 24/100\n",
            "418/418 [==============================] - 10s 23ms/step - loss: 2136.0954 - root_mean_squared_error: 2824.6067 - val_loss: 2187.4023 - val_root_mean_squared_error: 2809.0918\n",
            "Epoch 25/100\n",
            "418/418 [==============================] - 10s 24ms/step - loss: 2109.5886 - root_mean_squared_error: 2818.7029 - val_loss: 2158.9224 - val_root_mean_squared_error: 2782.6196\n",
            "Epoch 26/100\n",
            "418/418 [==============================] - 10s 23ms/step - loss: 2094.6483 - root_mean_squared_error: 2804.6513 - val_loss: 2164.9299 - val_root_mean_squared_error: 2799.2588\n",
            "Epoch 27/100\n",
            "418/418 [==============================] - 10s 23ms/step - loss: 2073.5816 - root_mean_squared_error: 2812.2052 - val_loss: 2075.6260 - val_root_mean_squared_error: 2797.8293\n",
            "Epoch 28/100\n",
            "418/418 [==============================] - 10s 24ms/step - loss: 2065.9029 - root_mean_squared_error: 2816.6182 - val_loss: 2118.8162 - val_root_mean_squared_error: 2785.5176\n",
            "Epoch 29/100\n",
            "418/418 [==============================] - 10s 23ms/step - loss: 2057.2666 - root_mean_squared_error: 2824.1586 - val_loss: 2087.5596 - val_root_mean_squared_error: 2778.7346\n",
            "Epoch 30/100\n",
            "418/418 [==============================] - 10s 24ms/step - loss: 2034.7562 - root_mean_squared_error: 2801.7575 - val_loss: 2090.4563 - val_root_mean_squared_error: 2779.3450\n",
            "Epoch 31/100\n",
            "418/418 [==============================] - 10s 24ms/step - loss: 2032.1357 - root_mean_squared_error: 2808.8460 - val_loss: 2126.1917 - val_root_mean_squared_error: 2819.0649\n",
            "Epoch 32/100\n",
            "418/418 [==============================] - 10s 24ms/step - loss: 2015.0483 - root_mean_squared_error: 2806.0093 - val_loss: 2059.8083 - val_root_mean_squared_error: 2787.4338\n",
            "Epoch 33/100\n",
            "418/418 [==============================] - 10s 23ms/step - loss: 2001.0722 - root_mean_squared_error: 2782.0112 - val_loss: 2018.2483 - val_root_mean_squared_error: 2789.3374\n",
            "Epoch 34/100\n",
            "418/418 [==============================] - 10s 24ms/step - loss: 1987.7451 - root_mean_squared_error: 2778.6098 - val_loss: 2040.9618 - val_root_mean_squared_error: 2787.2751\n",
            "Epoch 35/100\n",
            "418/418 [==============================] - 10s 24ms/step - loss: 1976.6694 - root_mean_squared_error: 2774.8555 - val_loss: 2154.4380 - val_root_mean_squared_error: 2856.3428\n",
            "Epoch 36/100\n",
            "418/418 [==============================] - 10s 24ms/step - loss: 1969.8428 - root_mean_squared_error: 2772.9358 - val_loss: 2040.8180 - val_root_mean_squared_error: 2788.1277\n",
            "Epoch 37/100\n",
            "418/418 [==============================] - 10s 24ms/step - loss: 1962.7898 - root_mean_squared_error: 2775.3865 - val_loss: 1967.7742 - val_root_mean_squared_error: 2824.9243\n",
            "Epoch 38/100\n",
            "418/418 [==============================] - 10s 24ms/step - loss: 1952.5472 - root_mean_squared_error: 2763.3796 - val_loss: 2013.5259 - val_root_mean_squared_error: 2842.4292\n",
            "Epoch 39/100\n",
            "418/418 [==============================] - 10s 24ms/step - loss: 1958.1136 - root_mean_squared_error: 2789.8747 - val_loss: 2001.7578 - val_root_mean_squared_error: 2789.2551\n",
            "Epoch 40/100\n",
            "418/418 [==============================] - 10s 24ms/step - loss: 1949.8880 - root_mean_squared_error: 2774.5471 - val_loss: 2082.7268 - val_root_mean_squared_error: 2879.7642\n",
            "Epoch 41/100\n",
            "418/418 [==============================] - 10s 24ms/step - loss: 1942.4705 - root_mean_squared_error: 2758.0525 - val_loss: 2042.9659 - val_root_mean_squared_error: 2831.9290\n",
            "Epoch 42/100\n",
            "418/418 [==============================] - 10s 24ms/step - loss: 1936.3185 - root_mean_squared_error: 2773.7067 - val_loss: 1990.3477 - val_root_mean_squared_error: 2810.4639\n",
            "Epoch 43/100\n",
            "418/418 [==============================] - 10s 24ms/step - loss: 1934.3349 - root_mean_squared_error: 2777.9819 - val_loss: 1942.2388 - val_root_mean_squared_error: 2821.3896\n",
            "Epoch 44/100\n",
            "418/418 [==============================] - 10s 24ms/step - loss: 1932.1318 - root_mean_squared_error: 2779.6016 - val_loss: 2016.4885 - val_root_mean_squared_error: 2856.4854\n",
            "Epoch 45/100\n",
            "418/418 [==============================] - 10s 24ms/step - loss: 1921.9241 - root_mean_squared_error: 2764.7943 - val_loss: 1936.0510 - val_root_mean_squared_error: 2762.8757\n",
            "Epoch 46/100\n",
            "418/418 [==============================] - 10s 24ms/step - loss: 1924.7334 - root_mean_squared_error: 2781.6405 - val_loss: 1969.4896 - val_root_mean_squared_error: 2817.8442\n",
            "Epoch 47/100\n",
            "418/418 [==============================] - 10s 24ms/step - loss: 1913.9279 - root_mean_squared_error: 2761.1485 - val_loss: 1952.4863 - val_root_mean_squared_error: 2812.3430\n",
            "Epoch 48/100\n",
            "418/418 [==============================] - 10s 24ms/step - loss: 1918.2208 - root_mean_squared_error: 2775.2345 - val_loss: 1963.0231 - val_root_mean_squared_error: 2786.2532\n",
            "Epoch 49/100\n",
            "418/418 [==============================] - 10s 24ms/step - loss: 1907.8811 - root_mean_squared_error: 2761.9119 - val_loss: 1948.2731 - val_root_mean_squared_error: 2801.2917\n",
            "Epoch 50/100\n",
            "418/418 [==============================] - 10s 24ms/step - loss: 1910.8917 - root_mean_squared_error: 2771.9996 - val_loss: 1983.0891 - val_root_mean_squared_error: 2823.1125\n",
            "Epoch 51/100\n",
            "418/418 [==============================] - 10s 24ms/step - loss: 1906.3506 - root_mean_squared_error: 2762.4861 - val_loss: 2004.1002 - val_root_mean_squared_error: 2839.8757\n",
            "Epoch 52/100\n",
            "418/418 [==============================] - 10s 24ms/step - loss: 1894.9129 - root_mean_squared_error: 2755.0214 - val_loss: 1920.2557 - val_root_mean_squared_error: 2764.5063\n",
            "Epoch 53/100\n",
            "418/418 [==============================] - 10s 23ms/step - loss: 1895.2638 - root_mean_squared_error: 2769.4255 - val_loss: 1927.4973 - val_root_mean_squared_error: 2795.8174\n",
            "Epoch 54/100\n",
            "418/418 [==============================] - 10s 24ms/step - loss: 1904.3299 - root_mean_squared_error: 2770.9452 - val_loss: 1901.8879 - val_root_mean_squared_error: 2783.9758\n",
            "Epoch 55/100\n",
            "418/418 [==============================] - 10s 24ms/step - loss: 1893.4224 - root_mean_squared_error: 2767.2612 - val_loss: 1979.1227 - val_root_mean_squared_error: 2852.1084\n",
            "Epoch 56/100\n",
            "418/418 [==============================] - 10s 24ms/step - loss: 1899.8316 - root_mean_squared_error: 2763.8909 - val_loss: 1887.2148 - val_root_mean_squared_error: 2772.9360\n",
            "Epoch 57/100\n",
            "418/418 [==============================] - 10s 24ms/step - loss: 1880.1236 - root_mean_squared_error: 2754.6245 - val_loss: 1938.7404 - val_root_mean_squared_error: 2829.4954\n",
            "Epoch 58/100\n",
            "418/418 [==============================] - 10s 23ms/step - loss: 1881.9689 - root_mean_squared_error: 2749.4571 - val_loss: 1900.6183 - val_root_mean_squared_error: 2814.7366\n",
            "Epoch 59/100\n",
            "418/418 [==============================] - 10s 23ms/step - loss: 1884.4537 - root_mean_squared_error: 2769.5658 - val_loss: 1852.8344 - val_root_mean_squared_error: 2784.3950\n",
            "Epoch 60/100\n",
            "418/418 [==============================] - 10s 23ms/step - loss: 1873.4967 - root_mean_squared_error: 2743.7608 - val_loss: 1874.6101 - val_root_mean_squared_error: 2775.5906\n",
            "Epoch 61/100\n",
            "418/418 [==============================] - 10s 24ms/step - loss: 1878.1375 - root_mean_squared_error: 2750.6926 - val_loss: 1913.3279 - val_root_mean_squared_error: 2782.4971\n",
            "Epoch 62/100\n",
            "418/418 [==============================] - 10s 24ms/step - loss: 1875.7477 - root_mean_squared_error: 2747.5606 - val_loss: 1895.7158 - val_root_mean_squared_error: 2848.4819\n",
            "Epoch 63/100\n",
            "418/418 [==============================] - 10s 24ms/step - loss: 1874.9849 - root_mean_squared_error: 2760.6218 - val_loss: 1877.1705 - val_root_mean_squared_error: 2830.4783\n",
            "Epoch 64/100\n",
            "418/418 [==============================] - 10s 23ms/step - loss: 1868.9967 - root_mean_squared_error: 2751.5829 - val_loss: 1905.8947 - val_root_mean_squared_error: 2833.0708\n",
            "Epoch 65/100\n",
            "418/418 [==============================] - 10s 23ms/step - loss: 1877.7658 - root_mean_squared_error: 2744.9743 - val_loss: 1890.4808 - val_root_mean_squared_error: 2832.2649\n",
            "Epoch 66/100\n",
            "418/418 [==============================] - 10s 24ms/step - loss: 1866.5601 - root_mean_squared_error: 2744.6443 - val_loss: 1865.5608 - val_root_mean_squared_error: 2857.3953\n",
            "Epoch 67/100\n",
            "418/418 [==============================] - 10s 24ms/step - loss: 1864.2876 - root_mean_squared_error: 2742.1719 - val_loss: 1862.4412 - val_root_mean_squared_error: 2808.9360\n",
            "Epoch 68/100\n",
            "418/418 [==============================] - 10s 24ms/step - loss: 1870.4962 - root_mean_squared_error: 2751.2983 - val_loss: 1855.0142 - val_root_mean_squared_error: 2817.9985\n",
            "Epoch 69/100\n",
            "418/418 [==============================] - 10s 24ms/step - loss: 1864.3656 - root_mean_squared_error: 2746.0392 - val_loss: 1873.2656 - val_root_mean_squared_error: 2831.4846\n"
          ],
          "name": "stdout"
        }
      ]
    },
    {
      "cell_type": "code",
      "metadata": {
        "colab": {
          "base_uri": "https://localhost:8080/",
          "height": 282
        },
        "id": "M13s8LE3vCW_",
        "outputId": "29e1795a-bef0-4e1c-892f-63d91cc99a83"
      },
      "source": [
        "# Plotting the DataFrame\n",
        "history_df=pd.DataFrame(history.history)\n",
        "history_df.loc[10:,['loss','val_loss']].plot()"
      ],
      "execution_count": 52,
      "outputs": [
        {
          "output_type": "execute_result",
          "data": {
            "text/plain": [
              "<matplotlib.axes._subplots.AxesSubplot at 0x7fe752893590>"
            ]
          },
          "metadata": {
            "tags": []
          },
          "execution_count": 52
        },
        {
          "output_type": "display_data",
          "data": {
            "image/png": "[encoded data removed]",
            "text/plain": [
              "<Figure size 432x288 with 1 Axes>"
            ]
          },
          "metadata": {
            "tags": [],
            "needs_background": "light"
          }
        }
      ]
    },
    {
      "cell_type": "code",
      "metadata": {
        "id": "gXVvbu2IKnWg"
      },
      "source": [
        "# Developing the Sales values\n",
        "prediction=model.predict(norm_test)\n",
        "result_df=pd.DataFrame(data=(prediction),columns=['Sales'])\n",
        "result=result_df['Sales']"
      ],
      "execution_count": 53,
      "outputs": []
    },
    {
      "cell_type": "code",
      "metadata": {
        "colab": {
          "base_uri": "https://localhost:8080/"
        },
        "id": "vcMxLpfH9Yvz",
        "outputId": "47c47319-e9d6-4042-fde9-e44afd10cb78"
      },
      "source": [
        "result"
      ],
      "execution_count": 54,
      "outputs": [
        {
          "output_type": "execute_result",
          "data": {
            "text/plain": [
              "0            0.348038\n",
              "1         5554.187500\n",
              "2         9079.082031\n",
              "3         6572.225586\n",
              "4         9241.600586\n",
              "             ...     \n",
              "305158    9561.313477\n",
              "305159    7751.929688\n",
              "305160    6280.688477\n",
              "305161    5804.329590\n",
              "305162    5623.683594\n",
              "Name: Sales, Length: 305163, dtype: float32"
            ]
          },
          "metadata": {
            "tags": []
          },
          "execution_count": 54
        }
      ]
    },
    {
      "cell_type": "code",
      "metadata": {
        "id": "r2cKlrUTS3vI"
      },
      "source": [
        "result_csv=result.to_csv('sales_2.csv',index=True)"
      ],
      "execution_count": 55,
      "outputs": []
    },
    {
      "cell_type": "code",
      "metadata": {
        "id": "WtF89Zikju9x",
        "colab": {
          "base_uri": "https://localhost:8080/",
          "height": 195
        },
        "outputId": "ebf25277-55ee-4eaa-c3ec-cd103d89b1ef"
      },
      "source": [
        "data = pd.read_csv(\"sales_2.csv\");\n",
        "data.head()"
      ],
      "execution_count": 56,
      "outputs": [
        {
          "output_type": "execute_result",
          "data": {
            "text/html": [
              "<div>\n",
              "<style scoped>\n",
              "    .dataframe tbody tr th:only-of-type {\n",
              "        vertical-align: middle;\n",
              "    }\n",
              "\n",
              "    .dataframe tbody tr th {\n",
              "        vertical-align: top;\n",
              "    }\n",
              "\n",
              "    .dataframe thead th {\n",
              "        text-align: right;\n",
              "    }\n",
              "</style>\n",
              "<table border=\"1\" class=\"dataframe\">\n",
              "  <thead>\n",
              "    <tr style=\"text-align: right;\">\n",
              "      <th></th>\n",
              "      <th>Unnamed: 0</th>\n",
              "      <th>Sales</th>\n",
              "    </tr>\n",
              "  </thead>\n",
              "  <tbody>\n",
              "    <tr>\n",
              "      <th>0</th>\n",
              "      <td>0</td>\n",
              "      <td>0.348038</td>\n",
              "    </tr>\n",
              "    <tr>\n",
              "      <th>1</th>\n",
              "      <td>1</td>\n",
              "      <td>5554.187500</td>\n",
              "    </tr>\n",
              "    <tr>\n",
              "      <th>2</th>\n",
              "      <td>2</td>\n",
              "      <td>9079.082000</td>\n",
              "    </tr>\n",
              "    <tr>\n",
              "      <th>3</th>\n",
              "      <td>3</td>\n",
              "      <td>6572.225600</td>\n",
              "    </tr>\n",
              "    <tr>\n",
              "      <th>4</th>\n",
              "      <td>4</td>\n",
              "      <td>9241.601000</td>\n",
              "    </tr>\n",
              "  </tbody>\n",
              "</table>\n",
              "</div>"
            ],
            "text/plain": [
              "   Unnamed: 0        Sales\n",
              "0           0     0.348038\n",
              "1           1  5554.187500\n",
              "2           2  9079.082000\n",
              "3           3  6572.225600\n",
              "4           4  9241.601000"
            ]
          },
          "metadata": {
            "tags": []
          },
          "execution_count": 56
        }
      ]
    }
  ]
}