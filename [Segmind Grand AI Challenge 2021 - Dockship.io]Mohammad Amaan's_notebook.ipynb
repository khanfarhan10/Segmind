{
  "cells": [
    {
      "source": [
        "# AutoML using H2O Ai\n",
        "\n",
        "Hello Dockshippers !\n",
        "In this notebook , i'll be showing a baseline model from H2O ai's automl. \n",
        "\n",
        "Here's an excellent documentation on H2O ai's automl.\n",
        "\n",
        "https://docs.h2o.ai/h2o/latest-stable/h2o-docs/automl.html\n",
        "\n",
        " It's still in development for multiclass classification AFAIK, but works like charm for regression and binary classification.\n",
        "\n",
        " I'll be demonstrating the simple and easy way of training using H2O ai"
      ],
      "cell_type": "markdown",
      "metadata": {}
    },
    {
      "cell_type": "code",
      "execution_count": 1,
      "metadata": {
        "execution": {
          "iopub.execute_input": "2021-04-16T09:20:31.604158Z",
          "iopub.status.busy": "2021-04-16T09:20:31.603277Z",
          "iopub.status.idle": "2021-04-16T09:20:31.815630Z",
          "shell.execute_reply": "2021-04-16T09:20:31.814755Z"
        },
        "papermill": {
          "duration": 0.22751,
          "end_time": "2021-04-16T09:20:31.815763",
          "exception": false,
          "start_time": "2021-04-16T09:20:31.588253",
          "status": "completed"
        },
        "tags": []
      },
      "outputs": [],
      "source": [
        "import h2o\n",
        "from h2o.automl import H2OAutoML"
      ]
    },
    {
      "cell_type": "code",
      "execution_count": 2,
      "metadata": {
        "execution": {
          "iopub.execute_input": "2021-04-16T09:20:31.842704Z",
          "iopub.status.busy": "2021-04-16T09:20:31.841918Z",
          "iopub.status.idle": "2021-04-16T09:20:37.664189Z",
          "shell.execute_reply": "2021-04-16T09:20:37.665551Z"
        },
        "papermill": {
          "duration": 5.83888,
          "end_time": "2021-04-16T09:20:37.665758",
          "exception": false,
          "start_time": "2021-04-16T09:20:31.826878",
          "status": "completed"
        },
        "tags": []
      },
      "outputs": [
        {
          "name": "stdout",
          "output_type": "stream",
          "text": [
            "Checking whether there is an H2O instance running at http://localhost:54321 ..... not found.\n",
            "Attempting to start a local H2O server...\n",
            "  Java Version: openjdk version \"11.0.8\" 2020-07-14; OpenJDK Runtime Environment (build 11.0.8+10-post-Ubuntu-0ubuntu118.04.1); OpenJDK 64-Bit Server VM (build 11.0.8+10-post-Ubuntu-0ubuntu118.04.1, mixed mode, sharing)\n",
            "  Starting server from /opt/conda/lib/python3.7/site-packages/h2o/backend/bin/h2o.jar\n",
            "  Ice root: /tmp/tmpbz49kt63\n",
            "  JVM stdout: /tmp/tmpbz49kt63/h2o_unknownUser_started_from_python.out\n",
            "  JVM stderr: /tmp/tmpbz49kt63/h2o_unknownUser_started_from_python.err\n",
            "  Server is running at http://127.0.0.1:54321\n",
            "Connecting to H2O server at http://127.0.0.1:54321 ... successful.\n",
            "Warning: Your H2O cluster version is too old (8 months and 5 days)! Please download and install the latest version from http://h2o.ai/download/\n"
          ]
        },
        {
          "data": {
            "text/html": [
              "<div style=\"overflow:auto\"><table style=\"width:50%\"><tr><td>H2O_cluster_uptime:</td>\n",
              "<td>02 secs</td></tr>\n",
              "<tr><td>H2O_cluster_timezone:</td>\n",
              "<td>Etc/UTC</td></tr>\n",
              "<tr><td>H2O_data_parsing_timezone:</td>\n",
              "<td>UTC</td></tr>\n",
              "<tr><td>H2O_cluster_version:</td>\n",
              "<td>3.30.1.1</td></tr>\n",
              "<tr><td>H2O_cluster_version_age:</td>\n",
              "<td>8 months and 5 days !!!</td></tr>\n",
              "<tr><td>H2O_cluster_name:</td>\n",
              "<td>H2O_from_python_unknownUser_fg2yg3</td></tr>\n",
              "<tr><td>H2O_cluster_total_nodes:</td>\n",
              "<td>1</td></tr>\n",
              "<tr><td>H2O_cluster_free_memory:</td>\n",
              "<td>12 Gb</td></tr>\n",
              "<tr><td>H2O_cluster_total_cores:</td>\n",
              "<td>4</td></tr>\n",
              "<tr><td>H2O_cluster_allowed_cores:</td>\n",
              "<td>4</td></tr>\n",
              "<tr><td>H2O_cluster_status:</td>\n",
              "<td>accepting new members, healthy</td></tr>\n",
              "<tr><td>H2O_connection_url:</td>\n",
              "<td>http://127.0.0.1:54321</td></tr>\n",
              "<tr><td>H2O_connection_proxy:</td>\n",
              "<td>{\"http\": null, \"https\": null}</td></tr>\n",
              "<tr><td>H2O_internal_security:</td>\n",
              "<td>False</td></tr>\n",
              "<tr><td>H2O_API_Extensions:</td>\n",
              "<td>Amazon S3, XGBoost, Algos, AutoML, Core V3, TargetEncoder, Core V4</td></tr>\n",
              "<tr><td>Python_version:</td>\n",
              "<td>3.7.6 final</td></tr></table></div>"
            ],
            "text/plain": [
              "--------------------------  ------------------------------------------------------------------\n",
              "H2O_cluster_uptime:         02 secs\n",
              "H2O_cluster_timezone:       Etc/UTC\n",
              "H2O_data_parsing_timezone:  UTC\n",
              "H2O_cluster_version:        3.30.1.1\n",
              "H2O_cluster_version_age:    8 months and 5 days !!!\n",
              "H2O_cluster_name:           H2O_from_python_unknownUser_fg2yg3\n",
              "H2O_cluster_total_nodes:    1\n",
              "H2O_cluster_free_memory:    12 Gb\n",
              "H2O_cluster_total_cores:    4\n",
              "H2O_cluster_allowed_cores:  4\n",
              "H2O_cluster_status:         accepting new members, healthy\n",
              "H2O_connection_url:         http://127.0.0.1:54321\n",
              "H2O_connection_proxy:       {\"http\": null, \"https\": null}\n",
              "H2O_internal_security:      False\n",
              "H2O_API_Extensions:         Amazon S3, XGBoost, Algos, AutoML, Core V3, TargetEncoder, Core V4\n",
              "Python_version:             3.7.6 final\n",
              "--------------------------  ------------------------------------------------------------------"
            ]
          },
          "metadata": {},
          "output_type": "display_data"
        }
      ],
      "source": [
        "h2o.init(\n",
        "    nthreads=-1,     # number of threads when launching a new H2O server\n",
        "    max_mem_size=12  # in gigabytes\n",
        "\n",
        ")\n"
      ]
    },
    {
      "cell_type": "code",
      "execution_count": 3,
      "metadata": {
        "_cell_guid": "79c7e3d0-c299-4dcb-8224-4455121ee9b0",
        "_uuid": "d629ff2d2480ee46fbb7e2d37f6b5fab8052498a",
        "execution": {
          "iopub.execute_input": "2021-04-16T09:20:37.742107Z",
          "iopub.status.busy": "2021-04-16T09:20:37.741318Z",
          "iopub.status.idle": "2021-04-16T09:20:38.992069Z",
          "shell.execute_reply": "2021-04-16T09:20:38.992675Z"
        },
        "papermill": {
          "duration": 1.295019,
          "end_time": "2021-04-16T09:20:38.992833",
          "exception": false,
          "start_time": "2021-04-16T09:20:37.697814",
          "status": "completed"
        },
        "tags": []
      },
      "outputs": [
        {
          "name": "stderr",
          "output_type": "stream",
          "text": [
            "/opt/conda/lib/python3.7/site-packages/IPython/core/interactiveshell.py:3063: DtypeWarning: Columns (7) have mixed types.Specify dtype option on import or set low_memory=False.\n",
            "  interactivity=interactivity, compiler=compiler, result=result)\n"
          ]
        }
      ],
      "source": [
        "import pandas as pd\n",
        "ss = pd.read_csv('./segmind-dockship/dataset/sample_submission.csv')\n",
        "test_features = pd.read_csv('./segmind-dockship/dataset/TEST.csv')\n",
        "train_features = pd.read_csv('./segmind-dockship/dataset/TRAIN.csv')\n",
        "store = pd.read_csv(\"./segmind-dockship/dataset/store.csv\")"
      ]
    },
    {
      "cell_type": "code",
      "execution_count": 4,
      "metadata": {
        "execution": {
          "iopub.execute_input": "2021-04-16T09:20:39.049584Z",
          "iopub.status.busy": "2021-04-16T09:20:39.045682Z",
          "iopub.status.idle": "2021-04-16T09:20:39.560522Z",
          "shell.execute_reply": "2021-04-16T09:20:39.559763Z"
        },
        "papermill": {
          "duration": 0.546857,
          "end_time": "2021-04-16T09:20:39.560667",
          "exception": false,
          "start_time": "2021-04-16T09:20:39.013810",
          "status": "completed"
        },
        "tags": []
      },
      "outputs": [],
      "source": [
        "train = pd.merge(train_features,store,on=\"Store\")\n",
        "test = pd.merge(test_features,store,on=\"Store\")"
      ]
    },
    {
      "cell_type": "code",
      "execution_count": 5,
      "metadata": {
        "execution": {
          "iopub.execute_input": "2021-04-16T09:20:39.608817Z",
          "iopub.status.busy": "2021-04-16T09:20:39.608120Z",
          "iopub.status.idle": "2021-04-16T09:21:02.889691Z",
          "shell.execute_reply": "2021-04-16T09:21:02.889074Z"
        },
        "papermill": {
          "duration": 23.308926,
          "end_time": "2021-04-16T09:21:02.889815",
          "exception": false,
          "start_time": "2021-04-16T09:20:39.580889",
          "status": "completed"
        },
        "tags": []
      },
      "outputs": [
        {
          "name": "stdout",
          "output_type": "stream",
          "text": [
            "Parse progress: |█████████████████████████████████████████████████████████| 100%\n",
            "Parse progress: |█████████████████████████████████████████████████████████| 100%\n"
          ]
        }
      ],
      "source": [
        "train = h2o.H2OFrame(train)\n",
        "test = h2o.H2OFrame(test)"
      ]
    },
    {
      "cell_type": "code",
      "execution_count": 6,
      "metadata": {
        "execution": {
          "iopub.execute_input": "2021-04-16T09:21:02.973705Z",
          "iopub.status.busy": "2021-04-16T09:21:02.973012Z",
          "iopub.status.idle": "2021-04-16T09:21:03.012441Z",
          "shell.execute_reply": "2021-04-16T09:21:03.012949Z"
        },
        "papermill": {
          "duration": 0.083196,
          "end_time": "2021-04-16T09:21:03.013085",
          "exception": false,
          "start_time": "2021-04-16T09:21:02.929889",
          "status": "completed"
        },
        "tags": []
      },
      "outputs": [
        {
          "data": {
            "text/html": [
              "<table>\n",
              "<thead>\n",
              "<tr><th style=\"text-align: right;\">  Store</th><th style=\"text-align: right;\">  DayOfWeek</th><th>Date               </th><th style=\"text-align: right;\">  Sales</th><th style=\"text-align: right;\">  Customers</th><th style=\"text-align: right;\">  Open</th><th style=\"text-align: right;\">  Promo</th><th>StateHoliday  </th><th style=\"text-align: right;\">  SchoolHoliday</th><th>StoreType  </th><th>Assortment  </th><th style=\"text-align: right;\">  CompetitionDistance</th><th style=\"text-align: right;\">  CompetitionOpenSinceMonth</th><th style=\"text-align: right;\">  CompetitionOpenSinceYear</th><th style=\"text-align: right;\">  Promo2</th><th style=\"text-align: right;\">  Promo2SinceWeek</th><th style=\"text-align: right;\">  Promo2SinceYear</th><th style=\"text-align: right;\">  PromoInterval</th></tr>\n",
              "</thead>\n",
              "<tbody>\n",
              "<tr><td style=\"text-align: right;\">      1</td><td style=\"text-align: right;\">          5</td><td>2015-07-31 00:00:00</td><td style=\"text-align: right;\">   5263</td><td style=\"text-align: right;\">        555</td><td style=\"text-align: right;\">     1</td><td style=\"text-align: right;\">      1</td><td>              </td><td style=\"text-align: right;\">              1</td><td>c          </td><td>a           </td><td style=\"text-align: right;\">                 1270</td><td style=\"text-align: right;\">                          9</td><td style=\"text-align: right;\">                      2008</td><td style=\"text-align: right;\">       0</td><td style=\"text-align: right;\">              nan</td><td style=\"text-align: right;\">              nan</td><td style=\"text-align: right;\">            nan</td></tr>\n",
              "<tr><td style=\"text-align: right;\">      1</td><td style=\"text-align: right;\">          4</td><td>2015-07-30 00:00:00</td><td style=\"text-align: right;\">   5020</td><td style=\"text-align: right;\">        546</td><td style=\"text-align: right;\">     1</td><td style=\"text-align: right;\">      1</td><td>              </td><td style=\"text-align: right;\">              1</td><td>c          </td><td>a           </td><td style=\"text-align: right;\">                 1270</td><td style=\"text-align: right;\">                          9</td><td style=\"text-align: right;\">                      2008</td><td style=\"text-align: right;\">       0</td><td style=\"text-align: right;\">              nan</td><td style=\"text-align: right;\">              nan</td><td style=\"text-align: right;\">            nan</td></tr>\n",
              "<tr><td style=\"text-align: right;\">      1</td><td style=\"text-align: right;\">          3</td><td>2015-07-29 00:00:00</td><td style=\"text-align: right;\">   4782</td><td style=\"text-align: right;\">        523</td><td style=\"text-align: right;\">     1</td><td style=\"text-align: right;\">      1</td><td>              </td><td style=\"text-align: right;\">              1</td><td>c          </td><td>a           </td><td style=\"text-align: right;\">                 1270</td><td style=\"text-align: right;\">                          9</td><td style=\"text-align: right;\">                      2008</td><td style=\"text-align: right;\">       0</td><td style=\"text-align: right;\">              nan</td><td style=\"text-align: right;\">              nan</td><td style=\"text-align: right;\">            nan</td></tr>\n",
              "<tr><td style=\"text-align: right;\">      1</td><td style=\"text-align: right;\">          2</td><td>2015-07-28 00:00:00</td><td style=\"text-align: right;\">   5011</td><td style=\"text-align: right;\">        560</td><td style=\"text-align: right;\">     1</td><td style=\"text-align: right;\">      1</td><td>              </td><td style=\"text-align: right;\">              1</td><td>c          </td><td>a           </td><td style=\"text-align: right;\">                 1270</td><td style=\"text-align: right;\">                          9</td><td style=\"text-align: right;\">                      2008</td><td style=\"text-align: right;\">       0</td><td style=\"text-align: right;\">              nan</td><td style=\"text-align: right;\">              nan</td><td style=\"text-align: right;\">            nan</td></tr>\n",
              "<tr><td style=\"text-align: right;\">      1</td><td style=\"text-align: right;\">          1</td><td>2015-07-27 00:00:00</td><td style=\"text-align: right;\">   6102</td><td style=\"text-align: right;\">        612</td><td style=\"text-align: right;\">     1</td><td style=\"text-align: right;\">      1</td><td>              </td><td style=\"text-align: right;\">              1</td><td>c          </td><td>a           </td><td style=\"text-align: right;\">                 1270</td><td style=\"text-align: right;\">                          9</td><td style=\"text-align: right;\">                      2008</td><td style=\"text-align: right;\">       0</td><td style=\"text-align: right;\">              nan</td><td style=\"text-align: right;\">              nan</td><td style=\"text-align: right;\">            nan</td></tr>\n",
              "<tr><td style=\"text-align: right;\">      1</td><td style=\"text-align: right;\">          7</td><td>2015-07-26 00:00:00</td><td style=\"text-align: right;\">      0</td><td style=\"text-align: right;\">          0</td><td style=\"text-align: right;\">     0</td><td style=\"text-align: right;\">      0</td><td>              </td><td style=\"text-align: right;\">              0</td><td>c          </td><td>a           </td><td style=\"text-align: right;\">                 1270</td><td style=\"text-align: right;\">                          9</td><td style=\"text-align: right;\">                      2008</td><td style=\"text-align: right;\">       0</td><td style=\"text-align: right;\">              nan</td><td style=\"text-align: right;\">              nan</td><td style=\"text-align: right;\">            nan</td></tr>\n",
              "<tr><td style=\"text-align: right;\">      1</td><td style=\"text-align: right;\">          6</td><td>2015-07-25 00:00:00</td><td style=\"text-align: right;\">   4364</td><td style=\"text-align: right;\">        500</td><td style=\"text-align: right;\">     1</td><td style=\"text-align: right;\">      0</td><td>              </td><td style=\"text-align: right;\">              0</td><td>c          </td><td>a           </td><td style=\"text-align: right;\">                 1270</td><td style=\"text-align: right;\">                          9</td><td style=\"text-align: right;\">                      2008</td><td style=\"text-align: right;\">       0</td><td style=\"text-align: right;\">              nan</td><td style=\"text-align: right;\">              nan</td><td style=\"text-align: right;\">            nan</td></tr>\n",
              "<tr><td style=\"text-align: right;\">      1</td><td style=\"text-align: right;\">          5</td><td>2015-07-24 00:00:00</td><td style=\"text-align: right;\">   3706</td><td style=\"text-align: right;\">        459</td><td style=\"text-align: right;\">     1</td><td style=\"text-align: right;\">      0</td><td>              </td><td style=\"text-align: right;\">              0</td><td>c          </td><td>a           </td><td style=\"text-align: right;\">                 1270</td><td style=\"text-align: right;\">                          9</td><td style=\"text-align: right;\">                      2008</td><td style=\"text-align: right;\">       0</td><td style=\"text-align: right;\">              nan</td><td style=\"text-align: right;\">              nan</td><td style=\"text-align: right;\">            nan</td></tr>\n",
              "<tr><td style=\"text-align: right;\">      1</td><td style=\"text-align: right;\">          4</td><td>2015-07-23 00:00:00</td><td style=\"text-align: right;\">   3769</td><td style=\"text-align: right;\">        503</td><td style=\"text-align: right;\">     1</td><td style=\"text-align: right;\">      0</td><td>              </td><td style=\"text-align: right;\">              0</td><td>c          </td><td>a           </td><td style=\"text-align: right;\">                 1270</td><td style=\"text-align: right;\">                          9</td><td style=\"text-align: right;\">                      2008</td><td style=\"text-align: right;\">       0</td><td style=\"text-align: right;\">              nan</td><td style=\"text-align: right;\">              nan</td><td style=\"text-align: right;\">            nan</td></tr>\n",
              "<tr><td style=\"text-align: right;\">      1</td><td style=\"text-align: right;\">          3</td><td>2015-07-22 00:00:00</td><td style=\"text-align: right;\">   3464</td><td style=\"text-align: right;\">        463</td><td style=\"text-align: right;\">     1</td><td style=\"text-align: right;\">      0</td><td>              </td><td style=\"text-align: right;\">              0</td><td>c          </td><td>a           </td><td style=\"text-align: right;\">                 1270</td><td style=\"text-align: right;\">                          9</td><td style=\"text-align: right;\">                      2008</td><td style=\"text-align: right;\">       0</td><td style=\"text-align: right;\">              nan</td><td style=\"text-align: right;\">              nan</td><td style=\"text-align: right;\">            nan</td></tr>\n",
              "</tbody>\n",
              "</table>"
            ]
          },
          "metadata": {},
          "output_type": "display_data"
        },
        {
          "data": {
            "text/plain": []
          },
          "execution_count": 6,
          "metadata": {},
          "output_type": "execute_result"
        }
      ],
      "source": [
        "train"
      ]
    },
    {
      "cell_type": "code",
      "execution_count": 7,
      "metadata": {
        "execution": {
          "iopub.execute_input": "2021-04-16T09:21:03.100238Z",
          "iopub.status.busy": "2021-04-16T09:21:03.099558Z",
          "iopub.status.idle": "2021-04-16T09:21:03.103715Z",
          "shell.execute_reply": "2021-04-16T09:21:03.104199Z"
        },
        "papermill": {
          "duration": 0.049667,
          "end_time": "2021-04-16T09:21:03.104350",
          "exception": false,
          "start_time": "2021-04-16T09:21:03.054683",
          "status": "completed"
        },
        "tags": []
      },
      "outputs": [],
      "source": [
        "x = train.columns[1:]\n",
        "y = \"Sales\"\n",
        "x.remove(y)"
      ]
    },
    {
      "cell_type": "code",
      "execution_count": 8,
      "metadata": {
        "execution": {
          "iopub.execute_input": "2021-04-16T09:21:03.187920Z",
          "iopub.status.busy": "2021-04-16T09:21:03.187245Z",
          "iopub.status.idle": "2021-04-16T13:06:20.449720Z",
          "shell.execute_reply": "2021-04-16T13:06:20.450339Z"
        },
        "papermill": {
          "duration": 13517.305979,
          "end_time": "2021-04-16T13:06:20.450545",
          "exception": false,
          "start_time": "2021-04-16T09:21:03.144566",
          "status": "completed"
        },
        "tags": []
      },
      "outputs": [
        {
          "name": "stdout",
          "output_type": "stream",
          "text": [
            "AutoML progress: |████████████████████████████████████████████████████████| 100%\n"
          ]
        }
      ],
      "source": [
        "aml = H2OAutoML(max_models=2, seed=1)\n",
        "aml.train(x=x, y=y, training_frame=train)"
      ]
    },
    {
      "cell_type": "code",
      "execution_count": 9,
      "metadata": {
        "execution": {
          "iopub.execute_input": "2021-04-16T13:06:20.574502Z",
          "iopub.status.busy": "2021-04-16T13:06:20.573767Z",
          "iopub.status.idle": "2021-04-16T13:06:20.586970Z",
          "shell.execute_reply": "2021-04-16T13:06:20.587532Z"
        },
        "papermill": {
          "duration": 0.076364,
          "end_time": "2021-04-16T13:06:20.587678",
          "exception": false,
          "start_time": "2021-04-16T13:06:20.511314",
          "status": "completed"
        },
        "tags": []
      },
      "outputs": [
        {
          "data": {
            "text/html": [
              "<table>\n",
              "<thead>\n",
              "<tr><th>model_id                                        </th><th style=\"text-align: right;\">  mean_residual_deviance</th><th style=\"text-align: right;\">   rmse</th><th style=\"text-align: right;\">   mse</th><th style=\"text-align: right;\">    mae</th><th style=\"text-align: right;\">  rmsle</th></tr>\n",
              "</thead>\n",
              "<tbody>\n",
              "<tr><td>StackedEnsemble_AllModels_AutoML_20210416_092103</td><td style=\"text-align: right;\">                  131038</td><td style=\"text-align: right;\">361.992</td><td style=\"text-align: right;\">131038</td><td style=\"text-align: right;\">236.383</td><td style=\"text-align: right;\">    nan</td></tr>\n",
              "<tr><td>XGBoost_1_AutoML_20210416_092103                </td><td style=\"text-align: right;\">                  141224</td><td style=\"text-align: right;\">375.797</td><td style=\"text-align: right;\">141224</td><td style=\"text-align: right;\">247.356</td><td style=\"text-align: right;\">    nan</td></tr>\n",
              "<tr><td>XGBoost_2_AutoML_20210416_092103                </td><td style=\"text-align: right;\">                  173718</td><td style=\"text-align: right;\">416.795</td><td style=\"text-align: right;\">173718</td><td style=\"text-align: right;\">272.086</td><td style=\"text-align: right;\">    nan</td></tr>\n",
              "</tbody>\n",
              "</table>"
            ]
          },
          "metadata": {},
          "output_type": "display_data"
        },
        {
          "data": {
            "text/plain": []
          },
          "execution_count": 9,
          "metadata": {},
          "output_type": "execute_result"
        }
      ],
      "source": [
        "lb = aml.leaderboard\n",
        "lb.head(rows=lb.nrows)"
      ]
    },
    {
      "source": [
        "Now this is a pretty good score considering we had to do zero or minimal feature engineering  :)"
      ],
      "cell_type": "markdown",
      "metadata": {}
    },
    {
      "cell_type": "code",
      "execution_count": null,
      "metadata": {},
      "outputs": [],
      "source": []
    }
  ],
  "metadata": {
    "kernelspec": {
      "display_name": "Python 3",
      "language": "python",
      "name": "python3"
    },
    "language_info": {
      "codemirror_mode": {
        "name": "ipython",
        "version": 3
      },
      "file_extension": ".py",
      "mimetype": "text/x-python",
      "name": "python",
      "nbconvert_exporter": "python",
      "pygments_lexer": "ipython3",
      "version": "3.7.6"
    },
    "papermill": {
      "duration": 13569.61201,
      "end_time": "2021-04-16T13:06:36.275344",
      "environment_variables": {},
      "exception": null,
      "input_path": "__notebook__.ipynb",
      "output_path": "__notebook__.ipynb",
      "parameters": {},
      "start_time": "2021-04-16T09:20:26.663334",
      "version": "2.1.0"
    }
  },
  "nbformat": 4,
  "nbformat_minor": 4
}